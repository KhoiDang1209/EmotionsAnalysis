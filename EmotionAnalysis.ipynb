{
 "cells": [
  {
   "cell_type": "code",
   "id": "initial_id",
   "metadata": {
    "collapsed": true,
    "ExecuteTime": {
     "end_time": "2025-02-26T03:46:41.477751Z",
     "start_time": "2025-02-26T03:46:19.852933Z"
    }
   },
   "source": [
    "import numpy as np\n",
    "import pandas as pd\n",
    "import tensorflow as tf\n",
    "from tensorflow.keras.preprocessing.text import Tokenizer\n",
    "from tensorflow.keras.preprocessing.sequence import pad_sequences\n",
    "from tensorflow.keras.models import Sequential\n",
    "from tensorflow.keras.layers import Embedding, Conv1D, GlobalMaxPooling1D, Dense\n",
    "from sklearn.model_selection import train_test_split\n",
    "from tensorflow.python.layers.core import Dropout"
   ],
   "outputs": [],
   "execution_count": 1
  },
  {
   "metadata": {
    "ExecuteTime": {
     "end_time": "2025-02-26T03:48:51.107645Z",
     "start_time": "2025-02-26T03:48:50.598986Z"
    }
   },
   "cell_type": "code",
   "source": "data=pd.read_csv('cleaned_text.csv')",
   "id": "88beefba135311db",
   "outputs": [],
   "execution_count": 2
  },
  {
   "metadata": {
    "ExecuteTime": {
     "end_time": "2025-02-26T03:48:54.345798Z",
     "start_time": "2025-02-26T03:48:54.318652Z"
    }
   },
   "cell_type": "code",
   "source": "data.head()",
   "id": "4188830ea01be362",
   "outputs": [
    {
     "data": {
      "text/plain": [
       "                                                Text  Label\n",
       "0                 feel really helpless heavy hearted      4\n",
       "1  ive enjoyed able slouch relax unwind frankly n...      0\n",
       "2            gave internship dmrg feeling distraught      4\n",
       "3                                dont know feel lost      0\n",
       "4  kindergarten teacher thoroughly weary job take...      4"
      ],
      "text/html": [
       "<div>\n",
       "<style scoped>\n",
       "    .dataframe tbody tr th:only-of-type {\n",
       "        vertical-align: middle;\n",
       "    }\n",
       "\n",
       "    .dataframe tbody tr th {\n",
       "        vertical-align: top;\n",
       "    }\n",
       "\n",
       "    .dataframe thead th {\n",
       "        text-align: right;\n",
       "    }\n",
       "</style>\n",
       "<table border=\"1\" class=\"dataframe\">\n",
       "  <thead>\n",
       "    <tr style=\"text-align: right;\">\n",
       "      <th></th>\n",
       "      <th>Text</th>\n",
       "      <th>Label</th>\n",
       "    </tr>\n",
       "  </thead>\n",
       "  <tbody>\n",
       "    <tr>\n",
       "      <th>0</th>\n",
       "      <td>feel really helpless heavy hearted</td>\n",
       "      <td>4</td>\n",
       "    </tr>\n",
       "    <tr>\n",
       "      <th>1</th>\n",
       "      <td>ive enjoyed able slouch relax unwind frankly n...</td>\n",
       "      <td>0</td>\n",
       "    </tr>\n",
       "    <tr>\n",
       "      <th>2</th>\n",
       "      <td>gave internship dmrg feeling distraught</td>\n",
       "      <td>4</td>\n",
       "    </tr>\n",
       "    <tr>\n",
       "      <th>3</th>\n",
       "      <td>dont know feel lost</td>\n",
       "      <td>0</td>\n",
       "    </tr>\n",
       "    <tr>\n",
       "      <th>4</th>\n",
       "      <td>kindergarten teacher thoroughly weary job take...</td>\n",
       "      <td>4</td>\n",
       "    </tr>\n",
       "  </tbody>\n",
       "</table>\n",
       "</div>"
      ]
     },
     "execution_count": 3,
     "metadata": {},
     "output_type": "execute_result"
    }
   ],
   "execution_count": 3
  },
  {
   "metadata": {
    "ExecuteTime": {
     "end_time": "2025-02-26T05:40:14.025190Z",
     "start_time": "2025-02-26T05:40:13.957189Z"
    }
   },
   "cell_type": "code",
   "source": [
    "X=data['Text']\n",
    "y=data['Label']\n",
    "X_train,X_test,y_train,y_test=train_test_split(X,y,test_size=0.2,random_state=42)\n",
    "print(\"X_train Shape: \",X_train.shape)\n",
    "print(\"X_test Shape: \",X_test.shape)\n",
    "print(\"y_train Shape: \",y_train.shape)\n",
    "print(\"y_test Shape: \",y_test.shape)"
   ],
   "id": "8f0e586eb556b743",
   "outputs": [
    {
     "name": "stdout",
     "output_type": "stream",
     "text": [
      "X_train Shape:  (333447,)\n",
      "X_test Shape:  (83362,)\n",
      "y_train Shape:  (333447,)\n",
      "y_test Shape:  (83362,)\n"
     ]
    }
   ],
   "execution_count": 18
  },
  {
   "metadata": {
    "ExecuteTime": {
     "end_time": "2025-02-26T05:40:15.521094Z",
     "start_time": "2025-02-26T05:40:15.484095Z"
    }
   },
   "cell_type": "code",
   "source": [
    "X_train = X_train.astype(str)\n",
    "X_test = X_test.astype(str)"
   ],
   "id": "9193de429d223818",
   "outputs": [],
   "execution_count": 19
  },
  {
   "metadata": {
    "ExecuteTime": {
     "end_time": "2025-02-26T05:50:41.643710Z",
     "start_time": "2025-02-26T05:50:32.519381Z"
    }
   },
   "cell_type": "code",
   "source": [
    "tokenizer=Tokenizer(num_words=50000,oov_token='OOV')\n",
    "tokenizer.fit_on_texts(X_train)\n",
    "X_train_sequences = tokenizer.texts_to_sequences(X_train)\n",
    "X_test_sequences = tokenizer.texts_to_sequences(X_test)"
   ],
   "id": "54ca53cfc29be458",
   "outputs": [],
   "execution_count": 41
  },
  {
   "metadata": {
    "ExecuteTime": {
     "end_time": "2025-02-26T05:51:09.869230Z",
     "start_time": "2025-02-26T05:51:09.822071Z"
    }
   },
   "cell_type": "code",
   "source": [
    "max_len = max(len(tokens) for tokens in X_train_sequences)\n",
    "print(\"Maximum sequence length (max_len):\", max_len)"
   ],
   "id": "ed0da544a67f8aa9",
   "outputs": [
    {
     "name": "stdout",
     "output_type": "stream",
     "text": [
      "Maximum sequence length (max_len): 79\n"
     ]
    }
   ],
   "execution_count": 43
  },
  {
   "metadata": {
    "ExecuteTime": {
     "end_time": "2025-02-26T05:51:12.038820Z",
     "start_time": "2025-02-26T05:51:11.122246Z"
    }
   },
   "cell_type": "code",
   "source": [
    "X_train_padded = pad_sequences(X_train_sequences, maxlen=max_len, padding='post',)\n",
    "X_test_padded = pad_sequences(X_test_sequences, maxlen=max_len, padding='post')"
   ],
   "id": "ef0f417600b805b0",
   "outputs": [],
   "execution_count": 44
  },
  {
   "metadata": {
    "ExecuteTime": {
     "end_time": "2025-02-26T05:51:17.323049Z",
     "start_time": "2025-02-26T05:51:17.300496Z"
    }
   },
   "cell_type": "code",
   "source": [
    "print(\"X_train_padded:\")\n",
    "print(X_train_padded.shape)\n",
    "print(\"\\nX_test_padded:\")\n",
    "print(X_test_padded.shape)"
   ],
   "id": "cf35e60d8b0b0449",
   "outputs": [
    {
     "name": "stdout",
     "output_type": "stream",
     "text": [
      "X_train_padded:\n",
      "(333447, 79)\n",
      "\n",
      "X_test_padded:\n",
      "(83362, 79)\n"
     ]
    }
   ],
   "execution_count": 45
  },
  {
   "metadata": {
    "ExecuteTime": {
     "end_time": "2025-02-26T05:45:14.807138Z",
     "start_time": "2025-02-26T05:45:14.793099Z"
    }
   },
   "cell_type": "code",
   "source": [
    "X_train_padded = np.expand_dims(X_train_padded, axis=-1)\n",
    "X_test_padded = np.expand_dims(X_test_padded, axis=-1)"
   ],
   "id": "c9e1b70413fcdf31",
   "outputs": [],
   "execution_count": 31
  },
  {
   "metadata": {
    "ExecuteTime": {
     "end_time": "2025-02-26T05:51:25.463340Z",
     "start_time": "2025-02-26T05:51:25.438460Z"
    }
   },
   "cell_type": "code",
   "source": [
    "y_train=np.array(y_train)\n",
    "y_test=np.array(y_test)"
   ],
   "id": "27ad29860fb28720",
   "outputs": [],
   "execution_count": 46
  },
  {
   "metadata": {
    "ExecuteTime": {
     "end_time": "2025-02-26T05:51:32.019759Z",
     "start_time": "2025-02-26T05:51:31.950381Z"
    }
   },
   "cell_type": "code",
   "source": [
    "model = Sequential([\n",
    "    Embedding(50000, 50, input_length=max_len),\n",
    "    Conv1D(64, 3, activation='relu'),\n",
    "    GlobalMaxPooling1D(),\n",
    "    Dense(32, activation='relu'),\n",
    "    Dense(6, activation='softmax')\n",
    "])\n",
    "model.compile(optimizer='adam',loss='sparse_categorical_crossentropy',metrics=['accuracy'])"
   ],
   "id": "3b674d33696adf87",
   "outputs": [],
   "execution_count": 47
  },
  {
   "metadata": {
    "ExecuteTime": {
     "end_time": "2025-02-26T05:51:33.811257Z",
     "start_time": "2025-02-26T05:51:33.774695Z"
    }
   },
   "cell_type": "code",
   "source": "model.summary()",
   "id": "7ce3da349882a136",
   "outputs": [
    {
     "name": "stdout",
     "output_type": "stream",
     "text": [
      "Model: \"sequential_3\"\n",
      "_________________________________________________________________\n",
      " Layer (type)                Output Shape              Param #   \n",
      "=================================================================\n",
      " embedding_5 (Embedding)     (None, 79, 50)            2500000   \n",
      "                                                                 \n",
      " conv1d_5 (Conv1D)           (None, 77, 64)            9664      \n",
      "                                                                 \n",
      " global_max_pooling1d_5 (Glo  (None, 64)               0         \n",
      " balMaxPooling1D)                                                \n",
      "                                                                 \n",
      " dense_9 (Dense)             (None, 32)                2080      \n",
      "                                                                 \n",
      " dense_10 (Dense)            (None, 6)                 198       \n",
      "                                                                 \n",
      "=================================================================\n",
      "Total params: 2,511,942\n",
      "Trainable params: 2,511,942\n",
      "Non-trainable params: 0\n",
      "_________________________________________________________________\n"
     ]
    }
   ],
   "execution_count": 48
  },
  {
   "metadata": {
    "ExecuteTime": {
     "end_time": "2025-02-26T06:22:12.579124Z",
     "start_time": "2025-02-26T05:51:38.644368Z"
    }
   },
   "cell_type": "code",
   "source": "model.fit(X_train_padded, y_train, epochs=10, batch_size=32, validation_data=(X_test_padded, y_test))",
   "id": "dbccb07e02046980",
   "outputs": [
    {
     "name": "stdout",
     "output_type": "stream",
     "text": [
      "Epoch 1/10\n",
      "10421/10421 [==============================] - 208s 20ms/step - loss: 0.1683 - accuracy: 0.9167 - val_loss: 0.1215 - val_accuracy: 0.9310\n",
      "Epoch 2/10\n",
      "10421/10421 [==============================] - 182s 18ms/step - loss: 0.1105 - accuracy: 0.9349 - val_loss: 0.1208 - val_accuracy: 0.9313\n",
      "Epoch 3/10\n",
      "10421/10421 [==============================] - 181s 17ms/step - loss: 0.0975 - accuracy: 0.9382 - val_loss: 0.1120 - val_accuracy: 0.9297\n",
      "Epoch 4/10\n",
      "10421/10421 [==============================] - 180s 17ms/step - loss: 0.0903 - accuracy: 0.9408 - val_loss: 0.1146 - val_accuracy: 0.9317\n",
      "Epoch 5/10\n",
      "10421/10421 [==============================] - 181s 17ms/step - loss: 0.0865 - accuracy: 0.9419 - val_loss: 0.1222 - val_accuracy: 0.9290\n",
      "Epoch 6/10\n",
      "10421/10421 [==============================] - 180s 17ms/step - loss: 0.0839 - accuracy: 0.9432 - val_loss: 0.1298 - val_accuracy: 0.9332\n",
      "Epoch 7/10\n",
      "10421/10421 [==============================] - 180s 17ms/step - loss: 0.0822 - accuracy: 0.9444 - val_loss: 0.1385 - val_accuracy: 0.9313\n",
      "Epoch 8/10\n",
      "10421/10421 [==============================] - 180s 17ms/step - loss: 0.0815 - accuracy: 0.9448 - val_loss: 0.1442 - val_accuracy: 0.9288\n",
      "Epoch 9/10\n",
      "10421/10421 [==============================] - 180s 17ms/step - loss: 0.0803 - accuracy: 0.9453 - val_loss: 0.1466 - val_accuracy: 0.9281\n",
      "Epoch 10/10\n",
      "10421/10421 [==============================] - 182s 17ms/step - loss: 0.0798 - accuracy: 0.9455 - val_loss: 0.1573 - val_accuracy: 0.9269\n"
     ]
    },
    {
     "data": {
      "text/plain": [
       "<keras.callbacks.History at 0x1e382cbfd90>"
      ]
     },
     "execution_count": 49,
     "metadata": {},
     "output_type": "execute_result"
    }
   ],
   "execution_count": 49
  },
  {
   "metadata": {
    "ExecuteTime": {
     "end_time": "2025-02-26T17:26:54.103050Z",
     "start_time": "2025-02-26T17:26:53.661043Z"
    }
   },
   "cell_type": "code",
   "source": [
    "model.save('my_text_cnn_model.h5')  # Saves architecture, weights, and optimizer state\n",
    "print(\"Model saved as 'my_text_cnn_model.h5'\")"
   ],
   "id": "c614edcc5309c270",
   "outputs": [
    {
     "name": "stdout",
     "output_type": "stream",
     "text": [
      "Model saved as 'my_text_cnn_model.h5'\n"
     ]
    }
   ],
   "execution_count": 50
  },
  {
   "metadata": {
    "ExecuteTime": {
     "end_time": "2025-02-26T17:27:02.067818Z",
     "start_time": "2025-02-26T17:27:01.969074Z"
    }
   },
   "cell_type": "code",
   "source": [
    "import pickle\n",
    "\n",
    "# Save the tokenizer\n",
    "with open('tokenizer.pkl', 'wb') as f:\n",
    "    pickle.dump(tokenizer, f)\n",
    "print(\"Tokenizer saved as 'tokenizer.pkl'\")"
   ],
   "id": "9fa5005c17c378b3",
   "outputs": [
    {
     "name": "stdout",
     "output_type": "stream",
     "text": [
      "Tokenizer saved as 'tokenizer.pkl'\n"
     ]
    }
   ],
   "execution_count": 51
  },
  {
   "metadata": {},
   "cell_type": "code",
   "outputs": [],
   "execution_count": null,
   "source": "",
   "id": "abaf369184a31156"
  }
 ],
 "metadata": {
  "kernelspec": {
   "display_name": "Python 3",
   "language": "python",
   "name": "python3"
  },
  "language_info": {
   "codemirror_mode": {
    "name": "ipython",
    "version": 2
   },
   "file_extension": ".py",
   "mimetype": "text/x-python",
   "name": "python",
   "nbconvert_exporter": "python",
   "pygments_lexer": "ipython2",
   "version": "2.7.6"
  }
 },
 "nbformat": 4,
 "nbformat_minor": 5
}
