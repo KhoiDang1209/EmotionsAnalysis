{
 "cells": [
  {
   "cell_type": "code",
   "id": "initial_id",
   "metadata": {
    "collapsed": true,
    "ExecuteTime": {
     "end_time": "2025-02-25T12:19:00.876342Z",
     "start_time": "2025-02-25T12:18:57.337406Z"
    }
   },
   "source": "import pandas as pd",
   "outputs": [],
   "execution_count": 1
  },
  {
   "metadata": {
    "ExecuteTime": {
     "end_time": "2025-02-25T12:19:04.249271Z",
     "start_time": "2025-02-25T12:19:03.219237Z"
    }
   },
   "cell_type": "code",
   "source": [
    "data=pd.read_csv('text.csv')\n",
    "data.head()"
   ],
   "id": "d5f6b7bae6b57dc2",
   "outputs": [
    {
     "data": {
      "text/plain": [
       "   Unnamed: 0                                               text  label\n",
       "0           0      i just feel really helpless and heavy hearted      4\n",
       "1           1  ive enjoyed being able to slouch about relax a...      0\n",
       "2           2  i gave up my internship with the dmrg and am f...      4\n",
       "3           3                         i dont know i feel so lost      0\n",
       "4           4  i am a kindergarten teacher and i am thoroughl...      4"
      ],
      "text/html": [
       "<div>\n",
       "<style scoped>\n",
       "    .dataframe tbody tr th:only-of-type {\n",
       "        vertical-align: middle;\n",
       "    }\n",
       "\n",
       "    .dataframe tbody tr th {\n",
       "        vertical-align: top;\n",
       "    }\n",
       "\n",
       "    .dataframe thead th {\n",
       "        text-align: right;\n",
       "    }\n",
       "</style>\n",
       "<table border=\"1\" class=\"dataframe\">\n",
       "  <thead>\n",
       "    <tr style=\"text-align: right;\">\n",
       "      <th></th>\n",
       "      <th>Unnamed: 0</th>\n",
       "      <th>text</th>\n",
       "      <th>label</th>\n",
       "    </tr>\n",
       "  </thead>\n",
       "  <tbody>\n",
       "    <tr>\n",
       "      <th>0</th>\n",
       "      <td>0</td>\n",
       "      <td>i just feel really helpless and heavy hearted</td>\n",
       "      <td>4</td>\n",
       "    </tr>\n",
       "    <tr>\n",
       "      <th>1</th>\n",
       "      <td>1</td>\n",
       "      <td>ive enjoyed being able to slouch about relax a...</td>\n",
       "      <td>0</td>\n",
       "    </tr>\n",
       "    <tr>\n",
       "      <th>2</th>\n",
       "      <td>2</td>\n",
       "      <td>i gave up my internship with the dmrg and am f...</td>\n",
       "      <td>4</td>\n",
       "    </tr>\n",
       "    <tr>\n",
       "      <th>3</th>\n",
       "      <td>3</td>\n",
       "      <td>i dont know i feel so lost</td>\n",
       "      <td>0</td>\n",
       "    </tr>\n",
       "    <tr>\n",
       "      <th>4</th>\n",
       "      <td>4</td>\n",
       "      <td>i am a kindergarten teacher and i am thoroughl...</td>\n",
       "      <td>4</td>\n",
       "    </tr>\n",
       "  </tbody>\n",
       "</table>\n",
       "</div>"
      ]
     },
     "execution_count": 2,
     "metadata": {},
     "output_type": "execute_result"
    }
   ],
   "execution_count": 2
  },
  {
   "metadata": {
    "ExecuteTime": {
     "end_time": "2025-02-25T12:20:52.326126Z",
     "start_time": "2025-02-25T12:20:52.279350Z"
    }
   },
   "cell_type": "code",
   "source": "data.count()",
   "id": "22abdb170effbfc9",
   "outputs": [
    {
     "data": {
      "text/plain": [
       "Unnamed: 0    416809\n",
       "text          416809\n",
       "label         416809\n",
       "dtype: int64"
      ]
     },
     "execution_count": 5,
     "metadata": {},
     "output_type": "execute_result"
    }
   ],
   "execution_count": 5
  },
  {
   "metadata": {
    "ExecuteTime": {
     "end_time": "2025-02-25T12:21:31.334876Z",
     "start_time": "2025-02-25T12:21:31.320857Z"
    }
   },
   "cell_type": "code",
   "source": [
    "import re\n",
    "import string\n",
    "import emoji\n",
    "import nltk"
   ],
   "id": "ffe6898bb114ee32",
   "outputs": [],
   "execution_count": 7
  },
  {
   "metadata": {
    "ExecuteTime": {
     "end_time": "2025-02-25T12:21:33.983108Z",
     "start_time": "2025-02-25T12:21:33.958668Z"
    }
   },
   "cell_type": "code",
   "source": [
    "def is_clean(text):\n",
    "    # Check for URLs\n",
    "    if re.search(r\"http\\S+|www\\S+\", text):\n",
    "        return False, \"Contains URL\"\n",
    "\n",
    "    # Check for Mentions\n",
    "    if re.search(r\"@\\w+\", text):\n",
    "        return False, \"Contains Mentions\"\n",
    "\n",
    "    # Check for Hashtags\n",
    "    if re.search(r\"#\\w+\", text):\n",
    "        return False, \"Contains Hashtags\"\n",
    "\n",
    "    # Check for Emojis\n",
    "    if any(char in emoji.EMOJI_DATA for char in text):\n",
    "        return False, \"Contains Emojis\"\n",
    "\n",
    "    # Check for Punctuation or Special Characters (excluding normal text)\n",
    "    if any(char in string.punctuation for char in text):\n",
    "        return False, \"Contains Punctuation or Special Characters\"\n",
    "\n",
    "    return True, \"Text is Clean\"\n"
   ],
   "id": "4756ce2de71ef041",
   "outputs": [],
   "execution_count": 8
  },
  {
   "metadata": {
    "ExecuteTime": {
     "end_time": "2025-02-25T12:21:46.205958Z",
     "start_time": "2025-02-25T12:21:36.515900Z"
    }
   },
   "cell_type": "code",
   "source": [
    "for text in data['text']:\n",
    "    output=is_clean(text)\n",
    "    if output==False:\n",
    "        print(output)\n",
    "        break"
   ],
   "id": "4419a1b520338ef9",
   "outputs": [],
   "execution_count": 9
  },
  {
   "metadata": {},
   "cell_type": "code",
   "outputs": [],
   "execution_count": null,
   "source": "",
   "id": "5f1ceb07e769e147"
  }
 ],
 "metadata": {
  "kernelspec": {
   "display_name": "Python 3",
   "language": "python",
   "name": "python3"
  },
  "language_info": {
   "codemirror_mode": {
    "name": "ipython",
    "version": 2
   },
   "file_extension": ".py",
   "mimetype": "text/x-python",
   "name": "python",
   "nbconvert_exporter": "python",
   "pygments_lexer": "ipython2",
   "version": "2.7.6"
  }
 },
 "nbformat": 4,
 "nbformat_minor": 5
}
