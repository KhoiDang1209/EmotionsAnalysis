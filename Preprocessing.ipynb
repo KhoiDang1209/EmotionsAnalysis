{
 "cells": [
  {
   "cell_type": "code",
   "id": "initial_id",
   "metadata": {
    "collapsed": true,
    "ExecuteTime": {
     "end_time": "2025-02-25T12:19:00.876342Z",
     "start_time": "2025-02-25T12:18:57.337406Z"
    }
   },
   "source": "import pandas as pd",
   "outputs": [],
   "execution_count": 1
  },
  {
   "metadata": {
    "ExecuteTime": {
     "end_time": "2025-02-25T12:32:08.067214Z",
     "start_time": "2025-02-25T12:32:07.329828Z"
    }
   },
   "cell_type": "code",
   "source": [
    "data=pd.read_csv('text.csv')\n",
    "data.head()"
   ],
   "id": "d5f6b7bae6b57dc2",
   "outputs": [
    {
     "data": {
      "text/plain": [
       "   Unnamed: 0                                               text  label\n",
       "0           0      i just feel really helpless and heavy hearted      4\n",
       "1           1  ive enjoyed being able to slouch about relax a...      0\n",
       "2           2  i gave up my internship with the dmrg and am f...      4\n",
       "3           3                         i dont know i feel so lost      0\n",
       "4           4  i am a kindergarten teacher and i am thoroughl...      4"
      ],
      "text/html": [
       "<div>\n",
       "<style scoped>\n",
       "    .dataframe tbody tr th:only-of-type {\n",
       "        vertical-align: middle;\n",
       "    }\n",
       "\n",
       "    .dataframe tbody tr th {\n",
       "        vertical-align: top;\n",
       "    }\n",
       "\n",
       "    .dataframe thead th {\n",
       "        text-align: right;\n",
       "    }\n",
       "</style>\n",
       "<table border=\"1\" class=\"dataframe\">\n",
       "  <thead>\n",
       "    <tr style=\"text-align: right;\">\n",
       "      <th></th>\n",
       "      <th>Unnamed: 0</th>\n",
       "      <th>text</th>\n",
       "      <th>label</th>\n",
       "    </tr>\n",
       "  </thead>\n",
       "  <tbody>\n",
       "    <tr>\n",
       "      <th>0</th>\n",
       "      <td>0</td>\n",
       "      <td>i just feel really helpless and heavy hearted</td>\n",
       "      <td>4</td>\n",
       "    </tr>\n",
       "    <tr>\n",
       "      <th>1</th>\n",
       "      <td>1</td>\n",
       "      <td>ive enjoyed being able to slouch about relax a...</td>\n",
       "      <td>0</td>\n",
       "    </tr>\n",
       "    <tr>\n",
       "      <th>2</th>\n",
       "      <td>2</td>\n",
       "      <td>i gave up my internship with the dmrg and am f...</td>\n",
       "      <td>4</td>\n",
       "    </tr>\n",
       "    <tr>\n",
       "      <th>3</th>\n",
       "      <td>3</td>\n",
       "      <td>i dont know i feel so lost</td>\n",
       "      <td>0</td>\n",
       "    </tr>\n",
       "    <tr>\n",
       "      <th>4</th>\n",
       "      <td>4</td>\n",
       "      <td>i am a kindergarten teacher and i am thoroughl...</td>\n",
       "      <td>4</td>\n",
       "    </tr>\n",
       "  </tbody>\n",
       "</table>\n",
       "</div>"
      ]
     },
     "execution_count": 14,
     "metadata": {},
     "output_type": "execute_result"
    }
   ],
   "execution_count": 14
  },
  {
   "metadata": {
    "ExecuteTime": {
     "end_time": "2025-02-25T12:32:10.505910Z",
     "start_time": "2025-02-25T12:32:10.466649Z"
    }
   },
   "cell_type": "code",
   "source": "data.count()",
   "id": "22abdb170effbfc9",
   "outputs": [
    {
     "data": {
      "text/plain": [
       "Unnamed: 0    416809\n",
       "text          416809\n",
       "label         416809\n",
       "dtype: int64"
      ]
     },
     "execution_count": 15,
     "metadata": {},
     "output_type": "execute_result"
    }
   ],
   "execution_count": 15
  },
  {
   "metadata": {
    "ExecuteTime": {
     "end_time": "2025-02-25T12:32:12.685301Z",
     "start_time": "2025-02-25T12:32:12.646243Z"
    }
   },
   "cell_type": "code",
   "source": "data.isnull().sum()",
   "id": "a08947f84a8599ad",
   "outputs": [
    {
     "data": {
      "text/plain": [
       "Unnamed: 0    0\n",
       "text          0\n",
       "label         0\n",
       "dtype: int64"
      ]
     },
     "execution_count": 16,
     "metadata": {},
     "output_type": "execute_result"
    }
   ],
   "execution_count": 16
  },
  {
   "metadata": {
    "ExecuteTime": {
     "end_time": "2025-02-25T12:32:14.419107Z",
     "start_time": "2025-02-25T12:32:14.177327Z"
    }
   },
   "cell_type": "code",
   "source": "data.duplicated().sum()",
   "id": "f84780d508f60324",
   "outputs": [
    {
     "data": {
      "text/plain": [
       "0"
      ]
     },
     "execution_count": 17,
     "metadata": {},
     "output_type": "execute_result"
    }
   ],
   "execution_count": 17
  },
  {
   "metadata": {
    "ExecuteTime": {
     "end_time": "2025-02-25T12:32:15.868312Z",
     "start_time": "2025-02-25T12:32:15.829426Z"
    }
   },
   "cell_type": "code",
   "source": [
    "data.rename(columns={'text':'Text','label':'Label'},inplace=True)\n",
    "data.drop('Unnamed: 0',axis=1,inplace=True)\n",
    "data.head()"
   ],
   "id": "94f8c7a7a06f9ec5",
   "outputs": [
    {
     "data": {
      "text/plain": [
       "                                                Text  Label\n",
       "0      i just feel really helpless and heavy hearted      4\n",
       "1  ive enjoyed being able to slouch about relax a...      0\n",
       "2  i gave up my internship with the dmrg and am f...      4\n",
       "3                         i dont know i feel so lost      0\n",
       "4  i am a kindergarten teacher and i am thoroughl...      4"
      ],
      "text/html": [
       "<div>\n",
       "<style scoped>\n",
       "    .dataframe tbody tr th:only-of-type {\n",
       "        vertical-align: middle;\n",
       "    }\n",
       "\n",
       "    .dataframe tbody tr th {\n",
       "        vertical-align: top;\n",
       "    }\n",
       "\n",
       "    .dataframe thead th {\n",
       "        text-align: right;\n",
       "    }\n",
       "</style>\n",
       "<table border=\"1\" class=\"dataframe\">\n",
       "  <thead>\n",
       "    <tr style=\"text-align: right;\">\n",
       "      <th></th>\n",
       "      <th>Text</th>\n",
       "      <th>Label</th>\n",
       "    </tr>\n",
       "  </thead>\n",
       "  <tbody>\n",
       "    <tr>\n",
       "      <th>0</th>\n",
       "      <td>i just feel really helpless and heavy hearted</td>\n",
       "      <td>4</td>\n",
       "    </tr>\n",
       "    <tr>\n",
       "      <th>1</th>\n",
       "      <td>ive enjoyed being able to slouch about relax a...</td>\n",
       "      <td>0</td>\n",
       "    </tr>\n",
       "    <tr>\n",
       "      <th>2</th>\n",
       "      <td>i gave up my internship with the dmrg and am f...</td>\n",
       "      <td>4</td>\n",
       "    </tr>\n",
       "    <tr>\n",
       "      <th>3</th>\n",
       "      <td>i dont know i feel so lost</td>\n",
       "      <td>0</td>\n",
       "    </tr>\n",
       "    <tr>\n",
       "      <th>4</th>\n",
       "      <td>i am a kindergarten teacher and i am thoroughl...</td>\n",
       "      <td>4</td>\n",
       "    </tr>\n",
       "  </tbody>\n",
       "</table>\n",
       "</div>"
      ]
     },
     "execution_count": 18,
     "metadata": {},
     "output_type": "execute_result"
    }
   ],
   "execution_count": 18
  },
  {
   "metadata": {
    "ExecuteTime": {
     "end_time": "2025-02-25T12:39:13.775817Z",
     "start_time": "2025-02-25T12:39:13.736268Z"
    }
   },
   "cell_type": "code",
   "source": [
    "mapping={\n",
    "    0:'Sadness',\n",
    "    1:'Joy',\n",
    "    2:'Love',\n",
    "    3:'Anger',\n",
    "    4:'Fear',\n",
    "    5:'Surprise'}\n",
    "data['Label']=data['Label'].map(mapping)\n",
    "data.head()"
   ],
   "id": "d16432c75c0be502",
   "outputs": [
    {
     "data": {
      "text/plain": [
       "                                                Text    Label\n",
       "0      i just feel really helpless and heavy hearted     Fear\n",
       "1  ive enjoyed being able to slouch about relax a...  Sadness\n",
       "2  i gave up my internship with the dmrg and am f...     Fear\n",
       "3                         i dont know i feel so lost  Sadness\n",
       "4  i am a kindergarten teacher and i am thoroughl...     Fear"
      ],
      "text/html": [
       "<div>\n",
       "<style scoped>\n",
       "    .dataframe tbody tr th:only-of-type {\n",
       "        vertical-align: middle;\n",
       "    }\n",
       "\n",
       "    .dataframe tbody tr th {\n",
       "        vertical-align: top;\n",
       "    }\n",
       "\n",
       "    .dataframe thead th {\n",
       "        text-align: right;\n",
       "    }\n",
       "</style>\n",
       "<table border=\"1\" class=\"dataframe\">\n",
       "  <thead>\n",
       "    <tr style=\"text-align: right;\">\n",
       "      <th></th>\n",
       "      <th>Text</th>\n",
       "      <th>Label</th>\n",
       "    </tr>\n",
       "  </thead>\n",
       "  <tbody>\n",
       "    <tr>\n",
       "      <th>0</th>\n",
       "      <td>i just feel really helpless and heavy hearted</td>\n",
       "      <td>Fear</td>\n",
       "    </tr>\n",
       "    <tr>\n",
       "      <th>1</th>\n",
       "      <td>ive enjoyed being able to slouch about relax a...</td>\n",
       "      <td>Sadness</td>\n",
       "    </tr>\n",
       "    <tr>\n",
       "      <th>2</th>\n",
       "      <td>i gave up my internship with the dmrg and am f...</td>\n",
       "      <td>Fear</td>\n",
       "    </tr>\n",
       "    <tr>\n",
       "      <th>3</th>\n",
       "      <td>i dont know i feel so lost</td>\n",
       "      <td>Sadness</td>\n",
       "    </tr>\n",
       "    <tr>\n",
       "      <th>4</th>\n",
       "      <td>i am a kindergarten teacher and i am thoroughl...</td>\n",
       "      <td>Fear</td>\n",
       "    </tr>\n",
       "  </tbody>\n",
       "</table>\n",
       "</div>"
      ]
     },
     "execution_count": 19,
     "metadata": {},
     "output_type": "execute_result"
    }
   ],
   "execution_count": 19
  },
  {
   "metadata": {
    "ExecuteTime": {
     "end_time": "2025-02-25T12:40:22.956925Z",
     "start_time": "2025-02-25T12:40:22.943988Z"
    }
   },
   "cell_type": "code",
   "source": [
    "import re\n",
    "import string\n",
    "import emoji\n",
    "import nltk\n",
    "from nltk.corpus import stopwords\n",
    "from nltk.stem import PorterStemmer"
   ],
   "id": "ffe6898bb114ee32",
   "outputs": [],
   "execution_count": 20
  },
  {
   "metadata": {
    "ExecuteTime": {
     "end_time": "2025-02-25T13:27:27.728006Z",
     "start_time": "2025-02-25T13:27:27.706580Z"
    }
   },
   "cell_type": "code",
   "source": [
    "def is_clean(text):\n",
    "    # Remove URL\n",
    "    data['Text']=data['Text'].str.replace(r'http\\S+','',regex=True)\n",
    "    # Remove Special Characters\n",
    "    data['Text']=data['Text'].str.replace(r'[^A-Za-z0-9]+',' ',regex=True)\n",
    "    # Remove White Spaces\n",
    "    data['Text']=data['Text'].str.replace(r'\\s+',' ',regex=True)\n",
    "    # Remove Numeric Characters\n",
    "    data['Text']=data['Text'].str.replace(r'\\d+','',regex=True)\n",
    "    # Remove Punctuation\n",
    "    data['Text']=data['Text'].str.replace(r'[^\\w\\s]','',regex=True)\n",
    "    # Remove Emojis\n",
    "    data['Text']=data['Text'].apply(lambda x: ''.join([c for c in x if c not in emoji.EMOJI_DATA]))\n",
    "    # Convert to Lowercase\n",
    "    data['Text']=data['Text'].str.lower()\n",
    "    # Remove Stopwords\n",
    "    stop_words=set(stopwords.words('english'))\n",
    "    data['Text']=data['Text'].apply(lambda x: ' '.join([word for word in x.split() if word not in stop_words]))\n",
    "    return True, \"Text is Clean\""
   ],
   "id": "4756ce2de71ef041",
   "outputs": [],
   "execution_count": 24
  },
  {
   "metadata": {
    "ExecuteTime": {
     "end_time": "2025-02-25T13:27:40.463822Z",
     "start_time": "2025-02-25T13:27:29.752269Z"
    }
   },
   "cell_type": "code",
   "source": "is_clean(data['Text'])",
   "id": "4419a1b520338ef9",
   "outputs": [
    {
     "data": {
      "text/plain": [
       "(True, 'Text is Clean')"
      ]
     },
     "execution_count": 25,
     "metadata": {},
     "output_type": "execute_result"
    }
   ],
   "execution_count": 25
  },
  {
   "metadata": {
    "ExecuteTime": {
     "end_time": "2025-02-25T13:40:55.262376Z",
     "start_time": "2025-02-25T13:40:53.261282Z"
    }
   },
   "cell_type": "code",
   "source": [
    "import matplotlib.pyplot as plt\n",
    "\n",
    "count=data['Label'].value_counts()\n",
    "fig,ax=plt.subplots(1,2,figsize=(12,6),facecolor='white')\n",
    "count.plot(kind='bar',ax=ax[0],color='skyblue')\n",
    "count.plot(kind='pie',autopct='%1.1f%%',ax=ax[1],colors=['skyblue','pink','red','green','yellow','orange'])\n",
    "plt.show()"
   ],
   "id": "ad93666cc692f7fa",
   "outputs": [
    {
     "data": {
      "text/plain": [
       "<Figure size 1200x600 with 2 Axes>"
      ],
      "image/png": "[encoded data removed]"
     },
     "metadata": {},
     "output_type": "display_data"
    }
   ],
   "execution_count": 26
  },
  {
   "metadata": {
    "ExecuteTime": {
     "end_time": "2025-02-25T13:58:33.029286Z",
     "start_time": "2025-02-25T13:58:32.986215Z"
    }
   },
   "cell_type": "code",
   "source": [
    "mapping={\n",
    "    'Sadness':0,\n",
    "    'Joy':1,\n",
    "    'Love':2,\n",
    "    'Anger':3,\n",
    "    'Fear':4,\n",
    "    'Surprise':5}\n",
    "data['Label']=data['Label'].map(mapping)\n",
    "data.head()"
   ],
   "id": "4af22ab4c08cf55f",
   "outputs": [
    {
     "data": {
      "text/plain": [
       "                                                Text  Label\n",
       "0                 feel really helpless heavy hearted      4\n",
       "1  ive enjoyed able slouch relax unwind frankly n...      0\n",
       "2            gave internship dmrg feeling distraught      4\n",
       "3                                dont know feel lost      0\n",
       "4  kindergarten teacher thoroughly weary job take...      4"
      ],
      "text/html": [
       "<div>\n",
       "<style scoped>\n",
       "    .dataframe tbody tr th:only-of-type {\n",
       "        vertical-align: middle;\n",
       "    }\n",
       "\n",
       "    .dataframe tbody tr th {\n",
       "        vertical-align: top;\n",
       "    }\n",
       "\n",
       "    .dataframe thead th {\n",
       "        text-align: right;\n",
       "    }\n",
       "</style>\n",
       "<table border=\"1\" class=\"dataframe\">\n",
       "  <thead>\n",
       "    <tr style=\"text-align: right;\">\n",
       "      <th></th>\n",
       "      <th>Text</th>\n",
       "      <th>Label</th>\n",
       "    </tr>\n",
       "  </thead>\n",
       "  <tbody>\n",
       "    <tr>\n",
       "      <th>0</th>\n",
       "      <td>feel really helpless heavy hearted</td>\n",
       "      <td>4</td>\n",
       "    </tr>\n",
       "    <tr>\n",
       "      <th>1</th>\n",
       "      <td>ive enjoyed able slouch relax unwind frankly n...</td>\n",
       "      <td>0</td>\n",
       "    </tr>\n",
       "    <tr>\n",
       "      <th>2</th>\n",
       "      <td>gave internship dmrg feeling distraught</td>\n",
       "      <td>4</td>\n",
       "    </tr>\n",
       "    <tr>\n",
       "      <th>3</th>\n",
       "      <td>dont know feel lost</td>\n",
       "      <td>0</td>\n",
       "    </tr>\n",
       "    <tr>\n",
       "      <th>4</th>\n",
       "      <td>kindergarten teacher thoroughly weary job take...</td>\n",
       "      <td>4</td>\n",
       "    </tr>\n",
       "  </tbody>\n",
       "</table>\n",
       "</div>"
      ]
     },
     "execution_count": 27,
     "metadata": {},
     "output_type": "execute_result"
    }
   ],
   "execution_count": 27
  },
  {
   "metadata": {
    "ExecuteTime": {
     "end_time": "2025-02-25T13:58:58.509258Z",
     "start_time": "2025-02-25T13:58:57.732659Z"
    }
   },
   "cell_type": "code",
   "source": "data.to_csv('cleaned_text.csv',index=False)",
   "id": "9dd3cd74433373ba",
   "outputs": [],
   "execution_count": 28
  }
 ],
 "metadata": {
  "kernelspec": {
   "display_name": "Python 3",
   "language": "python",
   "name": "python3"
  },
  "language_info": {
   "codemirror_mode": {
    "name": "ipython",
    "version": 2
   },
   "file_extension": ".py",
   "mimetype": "text/x-python",
   "name": "python",
   "nbconvert_exporter": "python",
   "pygments_lexer": "ipython2",
   "version": "2.7.6"
  }
 },
 "nbformat": 4,
 "nbformat_minor": 5
}
